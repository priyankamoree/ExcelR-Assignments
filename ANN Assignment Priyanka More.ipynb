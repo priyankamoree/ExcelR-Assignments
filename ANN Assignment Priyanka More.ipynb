{
 "cells": [
  {
   "cell_type": "code",
   "execution_count": 1,
   "id": "82859c34-9c52-4ad8-9106-888cc2d8e254",
   "metadata": {},
   "outputs": [],
   "source": [
    "import numpy as np\n",
    "import pandas as pd\n",
    "import tensorflow as tf\n",
    "from tensorflow.keras.models import Sequential\n",
    "from tensorflow.keras.layers import Dense\n",
    "from tensorflow.keras.optimizers import Adam\n",
    "from sklearn.preprocessing import LabelEncoder\n",
    "from sklearn.model_selection import train_test_split\n",
    "import keras_tuner as kt"
   ]
  },
  {
   "cell_type": "code",
   "execution_count": 2,
   "id": "8cf6d7a0-bfc5-4262-99c3-e8caf8665afd",
   "metadata": {},
   "outputs": [],
   "source": [
    "data=pd.read_csv('Alphabets_data.csv')"
   ]
  },
  {
   "cell_type": "code",
   "execution_count": 3,
   "id": "8c721491-9873-48b5-a5c0-4d7e1f78a45c",
   "metadata": {},
   "outputs": [],
   "source": [
    "# data Normalization\n",
    "from sklearn.preprocessing import StandardScaler\n",
    "\n",
    "# Assuming the last column is the target\n",
    "X = data.drop(columns='letter')\n",
    "y = data['letter']\n",
    "\n",
    "# Normalizing features\n",
    "scaler = StandardScaler()\n",
    "X_normalized = scaler.fit_transform(X)\n"
   ]
  },
  {
   "cell_type": "code",
   "execution_count": 4,
   "id": "1b4c793d-ca28-4e15-b0be-6850dc9dd9a0",
   "metadata": {},
   "outputs": [],
   "source": [
    "# encoding target columns as the target we have is object data type\n",
    "from sklearn.preprocessing import LabelEncoder\n",
    "# Convert labels to numeric values\n",
    "label_encoder = LabelEncoder()\n",
    "y_encoded = label_encoder.fit_transform(y)\n"
   ]
  },
  {
   "cell_type": "code",
   "execution_count": 5,
   "id": "fdc81946-d5e1-4d8b-bfe8-7822158782e9",
   "metadata": {},
   "outputs": [],
   "source": [
    "from sklearn.model_selection import train_test_split\n",
    "\n",
    "X_train, X_test, y_train, y_test = train_test_split(X_normalized, y_encoded, test_size=0.3, random_state=42)\n"
   ]
  },
  {
   "cell_type": "code",
   "execution_count": null,
   "id": "c7e87f1a-4a1a-4120-a0d3-e26d1b23a949",
   "metadata": {},
   "outputs": [],
   "source": []
  },
  {
   "cell_type": "code",
   "execution_count": 6,
   "id": "21180c40-85c4-4958-9cfa-b60f772832ab",
   "metadata": {},
   "outputs": [
    {
     "name": "stderr",
     "output_type": "stream",
     "text": [
      "C:\\Users\\shrut\\anaconda3\\envs\\priyanka_code\\lib\\site-packages\\keras\\src\\layers\\core\\dense.py:87: UserWarning: Do not pass an `input_shape`/`input_dim` argument to a layer. When using Sequential models, prefer using an `Input(shape)` object as the first layer in the model instead.\n",
      "  super().__init__(activity_regularizer=activity_regularizer, **kwargs)\n"
     ]
    }
   ],
   "source": [
    "\n",
    "# Define the model creation function for Keras Tuner\n",
    "def build_model(hp):\n",
    "    model = Sequential()\n",
    "    model.add(Dense(units=hp.Int('units', min_value=16, max_value=64, step=16),\n",
    "                    activation=hp.Choice('activation', values=['relu', 'tanh']),\n",
    "                    input_shape=(X_train.shape[1],)))\n",
    "    for _ in range(hp.Int('num_layers', 1, 3)):  # Number of hidden layers\n",
    "        model.add(Dense(units=hp.Int('units', min_value=16, max_value=64, step=16),\n",
    "                        activation=hp.Choice('activation', values=['relu', 'tanh'])))\n",
    "    model.add(Dense(len(np.unique(y_train)), activation='softmax'))\n",
    "\n",
    "    model.compile(\n",
    "        optimizer=Adam(learning_rate=hp.Float('learning_rate', min_value=1e-4, max_value=1e-2, sampling='LOG')),\n",
    "        loss='sparse_categorical_crossentropy',\n",
    "        metrics=['accuracy']\n",
    "    )\n",
    "    return model\n",
    "\n",
    "# Initialize the Keras Tuner\n",
    "tuner = kt.Hyperband(\n",
    "    build_model,\n",
    "    objective='val_accuracy',\n",
    "    max_epochs=10,\n",
    "    hyperband_iterations=2,\n",
    "    directory='my_dir',\n",
    "    project_name='intro_to_kt'\n",
    ")\n",
    "\n",
    "\n"
   ]
  },
  {
   "cell_type": "code",
   "execution_count": null,
   "id": "9fdcd47b-1814-408c-b7ec-15700680abbc",
   "metadata": {},
   "outputs": [],
   "source": []
  },
  {
   "cell_type": "code",
   "execution_count": 7,
   "id": "bc09e63b-8fa6-489f-81a9-b0e6312a2088",
   "metadata": {},
   "outputs": [],
   "source": [
    "# Define early stopping\n",
    "early_stopping = tf.keras.callbacks.EarlyStopping(monitor='val_loss', patience=3)\n",
    "\n"
   ]
  },
  {
   "cell_type": "code",
   "execution_count": 8,
   "id": "51e3a518-2952-4ff9-815f-8fd565b09b66",
   "metadata": {},
   "outputs": [
    {
     "name": "stdout",
     "output_type": "stream",
     "text": [
      "Trial 60 Complete [00h 00m 14s]\n",
      "val_accuracy: 0.8014285564422607\n",
      "\n",
      "Best val_accuracy So Far: 0.9350000023841858\n",
      "Total elapsed time: 00h 07m 27s\n"
     ]
    }
   ],
   "source": [
    "# Search for the best hyperparameters\n",
    "tuner.search(X_train, y_train, epochs=10, validation_split=0.2, callbacks=[early_stopping])\n",
    "\n",
    "# Get the best model\n",
    "best_model = tuner.get_best_models(num_models=1)[0]\n"
   ]
  },
  {
   "cell_type": "code",
   "execution_count": 9,
   "id": "54587de5-4886-4f8e-9178-9c87da6a7c22",
   "metadata": {},
   "outputs": [
    {
     "name": "stdout",
     "output_type": "stream",
     "text": [
      "Test Accuracy: 0.9326666593551636\n",
      "\u001b[1m188/188\u001b[0m \u001b[32m━━━━━━━━━━━━━━━━━━━━\u001b[0m\u001b[37m\u001b[0m \u001b[1m1s\u001b[0m 2ms/step\n"
     ]
    }
   ],
   "source": [
    "# Evaluate the best model\n",
    "test_loss, test_acc = best_model.evaluate(X_test, y_test, verbose=0)\n",
    "print(f\"Test Accuracy: {test_acc}\")\n",
    "\n",
    "# Generate predictions\n",
    "y_pred_proba = best_model.predict(X_test)\n",
    "y_pred = np.argmax(y_pred_proba, axis=1)  # Convert probabilities to class labels\n"
   ]
  },
  {
   "cell_type": "code",
   "execution_count": 10,
   "id": "206f353f-4657-4ca1-8032-0c233222406c",
   "metadata": {},
   "outputs": [
    {
     "name": "stdout",
     "output_type": "stream",
     "text": [
      "Classification Report:\n",
      "              precision    recall  f1-score   support\n",
      "\n",
      "           A       0.95      0.99      0.97       232\n",
      "           B       0.86      0.92      0.89       229\n",
      "           C       0.95      0.91      0.93       201\n",
      "           D       0.89      0.93      0.91       250\n",
      "           E       0.90      0.95      0.92       238\n",
      "           F       0.94      0.91      0.93       211\n",
      "           G       0.96      0.93      0.94       230\n",
      "           H       0.91      0.78      0.84       218\n",
      "           I       0.97      0.90      0.94       221\n",
      "           J       0.92      0.92      0.92       228\n",
      "           K       0.93      0.90      0.92       188\n",
      "           L       0.96      0.95      0.95       231\n",
      "           M       0.98      0.97      0.97       252\n",
      "           N       0.96      0.92      0.94       231\n",
      "           O       0.91      0.93      0.92       218\n",
      "           P       0.93      0.92      0.92       248\n",
      "           Q       0.95      0.94      0.94       253\n",
      "           R       0.87      0.91      0.89       234\n",
      "           S       0.92      0.97      0.94       235\n",
      "           T       0.95      0.96      0.96       232\n",
      "           U       0.95      0.97      0.96       261\n",
      "           V       0.95      0.93      0.94       237\n",
      "           W       0.97      0.96      0.96       213\n",
      "           X       0.88      0.97      0.92       245\n",
      "           Y       0.96      0.96      0.96       251\n",
      "           Z       0.94      0.92      0.93       213\n",
      "\n",
      "    accuracy                           0.93      6000\n",
      "   macro avg       0.93      0.93      0.93      6000\n",
      "weighted avg       0.93      0.93      0.93      6000\n",
      "\n",
      "Precision Score: 0.9334677535158583\n",
      "Recall Score: 0.9326666666666666\n",
      "F1 Score: 0.9325379161498811\n"
     ]
    }
   ],
   "source": [
    "\n",
    "\n",
    "\n",
    "# Print classification report\n",
    "from sklearn.metrics import classification_report, precision_score, recall_score, f1_score\n",
    "print(\"Classification Report:\")\n",
    "print(classification_report(y_test, y_pred, target_names=label_encoder.classes_))\n",
    "# Print precision, recall, and F1 score\n",
    "print(\"Precision Score:\", precision_score(y_test, y_pred, average='weighted'))\n",
    "print(\"Recall Score:\", recall_score(y_test, y_pred, average='weighted'))\n",
    "print(\"F1 Score:\", f1_score(y_test, y_pred, average='weighted'))\n",
    "\n"
   ]
  }
 ],
 "metadata": {
  "kernelspec": {
   "display_name": "Python 3 (ipykernel)",
   "language": "python",
   "name": "python3"
  },
  "language_info": {
   "codemirror_mode": {
    "name": "ipython",
    "version": 3
   },
   "file_extension": ".py",
   "mimetype": "text/x-python",
   "name": "python",
   "nbconvert_exporter": "python",
   "pygments_lexer": "ipython3",
   "version": "3.9.19"
  }
 },
 "nbformat": 4,
 "nbformat_minor": 5
}
