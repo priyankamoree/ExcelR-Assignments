{
 "cells": [
  {
   "cell_type": "markdown",
   "id": "97a15841-71a7-4521-9848-ba71344a0989",
   "metadata": {},
   "source": [
    "***Hypothesis Testing***\n",
    "- Bombay hospitality Ltd. operates a franchise model for producing exotic Norwegian dinners throughout New England. The operating cost for a franchise in a week (W) is given by the equation W = $1,000 + $5X, where X represents the number of units produced in a week. Recent feedback from restaurant owners suggests that this cost model may no longer be accurate, as their observed weekly operating costs are higher.***\n",
    "\n",
    "**Objective :** \n",
    "* To investigate the restaurant owners' claim about the increase in weekly operating costs using hypothesis testing.\n",
    "* **Data Provided:**\n",
    "  - The theoretical weekly operating cost model: W = $1,000 + $5X.\n",
    "  - Sample of 25 restaurants with a mean weekly cost of Rs. 3,050.\n",
    "  - Number of units produced in a week (X) follows a normal distribution with a mean (μ) of 600 units and a standard deviation (σ) of 25 units. "
   ]
  },
  {
   "cell_type": "raw",
   "id": "0c8b4f73-adf3-421a-90eb-c25c874e6610",
   "metadata": {},
   "source": []
  },
  {
   "cell_type": "markdown",
   "id": "8116a204-d3f2-485b-ab58-5f04ef3165e9",
   "metadata": {},
   "source": [
    "#State the Hypothesis Statement\n",
    "-  **Null hypothesis** = The weekly operating cost is equal to the therotical weekly operating cost.\n",
    "-  **Alternate Hypothesis** = The weekly operating cost is higher than theortical weekly operating cost.\n",
    "-  **It is a One tailed T-test problem**\n"
   ]
  },
  {
   "cell_type": "code",
   "execution_count": 126,
   "id": "4ffbe23a-3def-4ec7-ae82-a67dbfe04f17",
   "metadata": {},
   "outputs": [],
   "source": [
    "import scipy.stats as st\n",
    "import numpy as np\n",
    "import pandas as pd"
   ]
  },
  {
   "cell_type": "code",
   "execution_count": 99,
   "id": "664921dc-d8a7-4aeb-a657-229c525dd48a",
   "metadata": {},
   "outputs": [],
   "source": [
    "#given data in problem statement\n",
    "samp_mean = 3050 \n",
    "pop_mean= 4000\n",
    "pop_std=  5*25\n",
    "n=25\n",
    "aplha = 0.05"
   ]
  },
  {
   "cell_type": "code",
   "execution_count": 100,
   "id": "b4496740-6b4d-4857-a48f-11b6a2453066",
   "metadata": {},
   "outputs": [],
   "source": [
    "tvalue=(samp_mean-pop_mean)/(pop_std/np.sqrt(n))             #the formula for calculating the t-statistics value "
   ]
  },
  {
   "cell_type": "code",
   "execution_count": 101,
   "id": "91297ef3-5f02-46d6-b3cf-dbd338dab518",
   "metadata": {},
   "outputs": [
    {
     "data": {
      "text/plain": [
       "-38.0"
      ]
     },
     "execution_count": 101,
     "metadata": {},
     "output_type": "execute_result"
    }
   ],
   "source": [
    "tvalue "
   ]
  },
  {
   "cell_type": "code",
   "execution_count": 102,
   "id": "e1195a50-5b46-4614-b9be-b61b7ab1a152",
   "metadata": {},
   "outputs": [
    {
     "data": {
      "text/plain": [
       "2.9607810808177907e-23"
      ]
     },
     "execution_count": 102,
     "metadata": {},
     "output_type": "execute_result"
    }
   ],
   "source": [
    "pvalue = st.t.cdf(-38.0,24)           #calculating the p value using scipy.stats model \n",
    "pvalue"
   ]
  },
  {
   "cell_type": "code",
   "execution_count": 103,
   "id": "52a5d0b3-6f63-4fa8-8d4b-6ef190004c6b",
   "metadata": {},
   "outputs": [],
   "source": [
    "alpha = 0.05       #level of significance "
   ]
  },
  {
   "cell_type": "code",
   "execution_count": 104,
   "id": "eacb905c-224b-4015-a0e0-f54ee96c18f6",
   "metadata": {},
   "outputs": [
    {
     "name": "stdout",
     "output_type": "stream",
     "text": [
      "We reject Null hypothesis, i.e the weekly operating cost is not equal to the therotical weekly operating cost.\n"
     ]
    }
   ],
   "source": [
    "#Decision \n",
    "if pvalue<alpha:\n",
    "    print('We reject Null hypothesis, i.e the weekly operating cost is not equal to the therotical weekly operating cost.')\n",
    "else:\n",
    "    print('Fail to reject Null Hypothesis, i.e The weekly operating cost is equal theortical weekly operating cost.')"
   ]
  },
  {
   "cell_type": "code",
   "execution_count": 105,
   "id": "6c442490-14f7-4955-9e57-aae79ee57cfb",
   "metadata": {},
   "outputs": [],
   "source": [
    "critical_value = st.norm.ppf(0.05)"
   ]
  },
  {
   "cell_type": "code",
   "execution_count": 40,
   "id": "82995aac-ab41-458e-8dc6-38194ddbfe80",
   "metadata": {},
   "outputs": [
    {
     "data": {
      "text/plain": [
       "-1.6448536269514729"
      ]
     },
     "execution_count": 40,
     "metadata": {},
     "output_type": "execute_result"
    }
   ],
   "source": [
    "critical_value                  #critical vaLue "
   ]
  },
  {
   "cell_type": "markdown",
   "id": "0848d979-0243-413a-876d-63adabd03408",
   "metadata": {},
   "source": [
    "***Chi Square test Background:***\n",
    "- \n",
    "Mizzare Corporation has collected data on customer satisfaction levels for two types of smart home devices: Smart Thermostats and Smart Lights. They want to determine if there's a significant association between the type of device purchased and the customer's satisfaction level\n",
    "- **Objective:**\n",
    "To use the Chi-Square test for independence to determine if there's a significant association between the type of smart home device purchased (Smart Thermostats vs. Smart Lights) and the customer satisfaction level.\r\n",
    ".\r\n"
   ]
  },
  {
   "cell_type": "markdown",
   "id": "f20f8b05-b983-4973-86a3-b2e274a679db",
   "metadata": {},
   "source": [
    "***#State the null hypothesis***\n",
    "- **Null Hypothesis** = The Columns are Independent i.e there is no relationship between two qualitative variables/columns.\n",
    "- **Alternate Hypothesis** = The Columns are Dependent i.e there is a relationship between two columns."
   ]
  },
  {
   "cell_type": "code",
   "execution_count": 117,
   "id": "4dfb839c-4b87-4443-b025-7c38363953df",
   "metadata": {},
   "outputs": [],
   "source": [
    "from scipy.stats import chi2_contingency              #From Stats model we are importing Chi2_contingency function for performing chi**2 test "
   ]
  },
  {
   "cell_type": "code",
   "execution_count": 151,
   "id": "c13b446e-a064-4a21-847d-e0713807a5ac",
   "metadata": {},
   "outputs": [],
   "source": [
    "#Importing the given data with Dictionary Data Structure\n",
    "given_data = {\n",
    "    'Satisfaction': ['Very Satisfied', 'Satisfied', 'Neutral', 'Unsatisfied', 'Very Unsatisfied'],\n",
    "    'Smart Thermostat': [50, 80, 60, 30, 20],\n",
    "    'Smart Light': [70, 100, 90, 50, 50],\n",
    "    'Total':[120,180,150,80,70]\n",
    "}"
   ]
  },
  {
   "cell_type": "code",
   "execution_count": 152,
   "id": "773eb796-5788-43fb-9080-f409096dcbf9",
   "metadata": {},
   "outputs": [],
   "source": [
    "df=pd.DataFrame(given_data)                           #Converting the given data into table format with the help of pandas library"
   ]
  },
  {
   "cell_type": "code",
   "execution_count": 139,
   "id": "5f911a4b-2205-448f-8fab-8ddfe75b4be4",
   "metadata": {},
   "outputs": [
    {
     "data": {
      "text/html": [
       "<div>\n",
       "<style scoped>\n",
       "    .dataframe tbody tr th:only-of-type {\n",
       "        vertical-align: middle;\n",
       "    }\n",
       "\n",
       "    .dataframe tbody tr th {\n",
       "        vertical-align: top;\n",
       "    }\n",
       "\n",
       "    .dataframe thead th {\n",
       "        text-align: right;\n",
       "    }\n",
       "</style>\n",
       "<table border=\"1\" class=\"dataframe\">\n",
       "  <thead>\n",
       "    <tr style=\"text-align: right;\">\n",
       "      <th></th>\n",
       "      <th>Satisfaction</th>\n",
       "      <th>Smart Thermostat</th>\n",
       "      <th>Smart Light</th>\n",
       "      <th>Total</th>\n",
       "    </tr>\n",
       "  </thead>\n",
       "  <tbody>\n",
       "    <tr>\n",
       "      <th>0</th>\n",
       "      <td>Very Satisfied</td>\n",
       "      <td>50</td>\n",
       "      <td>70</td>\n",
       "      <td>120</td>\n",
       "    </tr>\n",
       "    <tr>\n",
       "      <th>1</th>\n",
       "      <td>Satisfied</td>\n",
       "      <td>80</td>\n",
       "      <td>100</td>\n",
       "      <td>180</td>\n",
       "    </tr>\n",
       "    <tr>\n",
       "      <th>2</th>\n",
       "      <td>Neutral</td>\n",
       "      <td>60</td>\n",
       "      <td>90</td>\n",
       "      <td>150</td>\n",
       "    </tr>\n",
       "    <tr>\n",
       "      <th>3</th>\n",
       "      <td>Unsatisfied</td>\n",
       "      <td>30</td>\n",
       "      <td>50</td>\n",
       "      <td>80</td>\n",
       "    </tr>\n",
       "    <tr>\n",
       "      <th>4</th>\n",
       "      <td>Very Unsatisfied</td>\n",
       "      <td>20</td>\n",
       "      <td>50</td>\n",
       "      <td>70</td>\n",
       "    </tr>\n",
       "  </tbody>\n",
       "</table>\n",
       "</div>"
      ],
      "text/plain": [
       "       Satisfaction  Smart Thermostat  Smart Light  Total\n",
       "0    Very Satisfied                50           70    120\n",
       "1         Satisfied                80          100    180\n",
       "2           Neutral                60           90    150\n",
       "3       Unsatisfied                30           50     80\n",
       "4  Very Unsatisfied                20           50     70"
      ]
     },
     "execution_count": 139,
     "metadata": {},
     "output_type": "execute_result"
    }
   ],
   "source": [
    "df"
   ]
  },
  {
   "cell_type": "code",
   "execution_count": 153,
   "id": "07ef1a4d-8eb1-4fa0-9b3c-046e9328bf15",
   "metadata": {},
   "outputs": [],
   "source": [
    "chi2statistics,p,df,exp = chi2_contingency(df[['Smart Thermostat','Smart Light']].values)              #chi2_contigency returns 4 values"
   ]
  },
  {
   "cell_type": "code",
   "execution_count": 143,
   "id": "166aafe6-b4a7-4ed5-9b93-0c92fcc37c92",
   "metadata": {},
   "outputs": [
    {
     "data": {
      "text/plain": [
       "5.638227513227513"
      ]
     },
     "execution_count": 143,
     "metadata": {},
     "output_type": "execute_result"
    }
   ],
   "source": [
    "chi2statistics"
   ]
  },
  {
   "cell_type": "code",
   "execution_count": 144,
   "id": "f2b5ffb2-5fcf-4db9-87ac-b86ab213ae0b",
   "metadata": {},
   "outputs": [
    {
     "data": {
      "text/plain": [
       "0.22784371130697179"
      ]
     },
     "execution_count": 144,
     "metadata": {},
     "output_type": "execute_result"
    }
   ],
   "source": [
    "p"
   ]
  },
  {
   "cell_type": "code",
   "execution_count": 145,
   "id": "fa892c76-c71c-4b88-871b-692057ea2217",
   "metadata": {},
   "outputs": [
    {
     "data": {
      "text/plain": [
       "4"
      ]
     },
     "execution_count": 145,
     "metadata": {},
     "output_type": "execute_result"
    }
   ],
   "source": [
    "df"
   ]
  },
  {
   "cell_type": "code",
   "execution_count": 146,
   "id": "78bec8bd-583a-4380-90ae-4f1b4bad5036",
   "metadata": {},
   "outputs": [
    {
     "data": {
      "text/plain": [
       "array([[ 48.,  72.],\n",
       "       [ 72., 108.],\n",
       "       [ 60.,  90.],\n",
       "       [ 32.,  48.],\n",
       "       [ 28.,  42.]])"
      ]
     },
     "execution_count": 146,
     "metadata": {},
     "output_type": "execute_result"
    }
   ],
   "source": [
    "exp                                                                     #expected Frequency table "
   ]
  },
  {
   "cell_type": "code",
   "execution_count": 147,
   "id": "1adf98bd-f5cf-4b87-bcb0-bff569e04de7",
   "metadata": {},
   "outputs": [],
   "source": [
    "critical_value = st.chi2.ppf(0.95,4)"
   ]
  },
  {
   "cell_type": "code",
   "execution_count": 93,
   "id": "909117f3-aa4a-46f2-9139-3569655ad74e",
   "metadata": {},
   "outputs": [
    {
     "data": {
      "text/plain": [
       "9.487729036781154"
      ]
     },
     "execution_count": 93,
     "metadata": {},
     "output_type": "execute_result"
    }
   ],
   "source": [
    "critical_value"
   ]
  },
  {
   "cell_type": "code",
   "execution_count": 148,
   "id": "789ef220-50d7-41fd-a1f8-7f53568ffb43",
   "metadata": {},
   "outputs": [
    {
     "name": "stdout",
     "output_type": "stream",
     "text": [
      "Fail To reject Null hypothesis / Columns are Independent\n"
     ]
    }
   ],
   "source": [
    "if chi2statistics > critical_value:\n",
    "    print('Reject null Hypothesis / Columns are Dependent')\n",
    "else:\n",
    "    print('Fail To reject Null hypothesis / Columns are Independent')"
   ]
  },
  {
   "cell_type": "code",
   "execution_count": null,
   "id": "ddf4fa76-111d-4bdc-adef-4210b5ae528b",
   "metadata": {},
   "outputs": [],
   "source": []
  }
 ],
 "metadata": {
  "kernelspec": {
   "display_name": "Python 3 (ipykernel)",
   "language": "python",
   "name": "python3"
  },
  "language_info": {
   "codemirror_mode": {
    "name": "ipython",
    "version": 3
   },
   "file_extension": ".py",
   "mimetype": "text/x-python",
   "name": "python",
   "nbconvert_exporter": "python",
   "pygments_lexer": "ipython3",
   "version": "3.11.7"
  }
 },
 "nbformat": 4,
 "nbformat_minor": 5
}
