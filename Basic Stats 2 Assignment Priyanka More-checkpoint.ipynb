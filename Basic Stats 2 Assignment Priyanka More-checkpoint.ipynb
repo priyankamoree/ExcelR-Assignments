{
 "cells": [
  {
   "cell_type": "markdown",
   "id": "4ac18c9e-3bb7-4f93-a4c9-fce1364a175f",
   "metadata": {},
   "source": [
    "**Data: A total of 15 print-heads were randomly selected and tested until failure. The durability of each print-head (in millions of characters) was recorded as follows:\n",
    "1.13, 1.55, 1.43, 0.92, 1.25, 1.36, 1.32, 0.85, 1.07, 1.48, 1.20, 1.33, 1.18, 1.22, 1.29**\n",
    "\n"
   ]
  },
  {
   "cell_type": "markdown",
   "id": "55c39bc0-1a6b-499d-ac43-3a90965c5e2f",
   "metadata": {},
   "source": [
    "Task A: Build 99% Confidence Interval Using Sample Standard Deviation\r\n",
    "Assuming the sample is representative of the population, construct a 99% confidence interval for the mean number of characters printed before the print-head fails using the sample standard deviation. Explain the steps you take and the rationale behind using the t-distribution for this task.\r\n"
   ]
  },
  {
   "cell_type": "code",
   "execution_count": 4,
   "id": "6ebf96c7-8619-4fab-aa71-33a6e7b58e2e",
   "metadata": {},
   "outputs": [],
   "source": [
    "import pandas as pd\n",
    "import numpy as np\n",
    "from scipy.stats import norm,t\n",
    "import matplotlib.pyplot as plt\n",
    "import scipy as sc\n",
    "import warnings\n",
    "warnings.filterwarnings('ignore')\n",
    "%matplotlib inline "
   ]
  },
  {
   "cell_type": "code",
   "execution_count": 5,
   "id": "e40aa79f-2da5-466b-8702-90c3ff2c1587",
   "metadata": {},
   "outputs": [],
   "source": [
    "data = [1.13, 1.55, 1.43, 0.92, 1.25, 1.36, 1.32, 0.85, 1.07, 1.48, 1.20, 1.33, 1.18, 1.22, 1.29]"
   ]
  },
  {
   "cell_type": "code",
   "execution_count": 6,
   "id": "14530d66-0ea2-4ac7-8cd6-418ab47da0cc",
   "metadata": {},
   "outputs": [
    {
     "data": {
      "text/plain": [
       "1.2386666666666666"
      ]
     },
     "execution_count": 6,
     "metadata": {},
     "output_type": "execute_result"
    }
   ],
   "source": [
    "np.mean(data)"
   ]
  },
  {
   "cell_type": "code",
   "execution_count": 7,
   "id": "0c74858e-77be-4c29-90a8-7f87fb022923",
   "metadata": {},
   "outputs": [
    {
     "data": {
      "text/plain": [
       "0.18661427836285438"
      ]
     },
     "execution_count": 7,
     "metadata": {},
     "output_type": "execute_result"
    }
   ],
   "source": [
    "np.std(data)"
   ]
  },
  {
   "cell_type": "code",
   "execution_count": 8,
   "id": "85c924ac-ba62-441a-ace1-1e4336d662bb",
   "metadata": {},
   "outputs": [],
   "source": [
    "n=len(data)"
   ]
  },
  {
   "cell_type": "code",
   "execution_count": 9,
   "id": "e6a7fc5c-5b89-41f6-b9ca-b127087ff16b",
   "metadata": {},
   "outputs": [
    {
     "data": {
      "text/plain": [
       "15"
      ]
     },
     "execution_count": 9,
     "metadata": {},
     "output_type": "execute_result"
    }
   ],
   "source": [
    "n"
   ]
  },
  {
   "cell_type": "code",
   "execution_count": 10,
   "id": "b958aea0-ea23-400c-bc8d-1c942379524a",
   "metadata": {},
   "outputs": [],
   "source": [
    "point_estimate = np.mean(data)"
   ]
  },
  {
   "cell_type": "code",
   "execution_count": 11,
   "id": "9b11342a-3626-45f9-8fa3-b6df6396189d",
   "metadata": {},
   "outputs": [],
   "source": [
    "tvalue = t.ppf(0.995,n-1) "
   ]
  },
  {
   "cell_type": "code",
   "execution_count": 12,
   "id": "4b0d772e-73ed-43dd-8766-6c7c680f62cc",
   "metadata": {},
   "outputs": [
    {
     "data": {
      "text/plain": [
       "2.97684273411266"
      ]
     },
     "execution_count": 12,
     "metadata": {},
     "output_type": "execute_result"
    }
   ],
   "source": [
    "tvalue"
   ]
  },
  {
   "cell_type": "code",
   "execution_count": 13,
   "id": "98d381e2-89e6-4be2-8afd-bb9dc04665cd",
   "metadata": {},
   "outputs": [],
   "source": [
    "margin_error= tvalue*np.std(data)/np.sqrt(n)"
   ]
  },
  {
   "cell_type": "code",
   "execution_count": 14,
   "id": "7a559660-b376-439e-ace0-20f912d19a91",
   "metadata": {},
   "outputs": [
    {
     "data": {
      "text/plain": [
       "0.14343499802810397"
      ]
     },
     "execution_count": 14,
     "metadata": {},
     "output_type": "execute_result"
    }
   ],
   "source": [
    "margin_error"
   ]
  },
  {
   "cell_type": "code",
   "execution_count": 16,
   "id": "bb256b8c-7c3e-4c3d-a3ab-10a0bb65c427",
   "metadata": {},
   "outputs": [],
   "source": [
    "Confidence_interval = (point_estimate-margin_error , point_estimate+margin_error)"
   ]
  },
  {
   "cell_type": "code",
   "execution_count": 17,
   "id": "e49107f9-2e68-4ac0-bdc0-c61c1dd50162",
   "metadata": {},
   "outputs": [
    {
     "name": "stdout",
     "output_type": "stream",
     "text": [
      "confidence Interval for thr above problem Satatement is: (1.0952316686385626, 1.3821016646947706)\n"
     ]
    }
   ],
   "source": [
    "print(\"confidence Interval for thr above problem Satatement is:\", Confidence_interval)"
   ]
  },
  {
   "cell_type": "code",
   "execution_count": null,
   "id": "db7aa187-83b3-4181-8412-85e2370cdf05",
   "metadata": {},
   "outputs": [],
   "source": []
  },
  {
   "cell_type": "markdown",
   "id": "3d440563-49b2-4f97-b529-70b4c7899163",
   "metadata": {},
   "source": [
    "Task 2: Build 99% Confidence Interval Using Known Population Standard Deviation\r\n",
    "If it were known that the population standard deviation is 0.2 million characters, construct a 99% confidence interval for the mean number of characters printed before failure.\r\n"
   ]
  },
  {
   "cell_type": "code",
   "execution_count": 19,
   "id": "98ca985f-843d-41fe-a527-dfa43ac0f7d3",
   "metadata": {},
   "outputs": [],
   "source": [
    "n=len(data)\n",
    "samp_std = np.std(data)\n",
    "point_estimatee=np.mean(data)\n",
    "pop_std=0.2"
   ]
  },
  {
   "cell_type": "code",
   "execution_count": 20,
   "id": "12a6f49d-3b27-488e-8204-660bdfd12694",
   "metadata": {},
   "outputs": [
    {
     "data": {
      "text/plain": [
       "2.5758293035489004"
      ]
     },
     "execution_count": 20,
     "metadata": {},
     "output_type": "execute_result"
    }
   ],
   "source": [
    "zvalue=norm.ppf(1-0.01/2)\n",
    "zvalue"
   ]
  },
  {
   "cell_type": "code",
   "execution_count": 21,
   "id": "790900e0-e61c-4524-8f68-57333494cbb1",
   "metadata": {},
   "outputs": [],
   "source": [
    "margin_oferror=zvalue*pop_std/np.sqrt(n)"
   ]
  },
  {
   "cell_type": "code",
   "execution_count": 22,
   "id": "2fd998a8-fe45-41b6-9142-2820037fd059",
   "metadata": {},
   "outputs": [],
   "source": [
    "confidence_interval=(point_estimatee-margin_oferror,point_estimatee+margin_oferror)"
   ]
  },
  {
   "cell_type": "code",
   "execution_count": 23,
   "id": "53560521-810d-4db1-953e-bef879819b93",
   "metadata": {},
   "outputs": [
    {
     "name": "stdout",
     "output_type": "stream",
     "text": [
      "Confidence Interval is: (1.1056514133957607, 1.3716819199375725)\n"
     ]
    }
   ],
   "source": [
    "print(\"Confidence Interval is:\",confidence_interval)"
   ]
  },
  {
   "cell_type": "code",
   "execution_count": null,
   "id": "5c61b5b9-bade-4735-b06e-5ace854058f2",
   "metadata": {},
   "outputs": [],
   "source": []
  }
 ],
 "metadata": {
  "kernelspec": {
   "display_name": "Python 3 (ipykernel)",
   "language": "python",
   "name": "python3"
  },
  "language_info": {
   "codemirror_mode": {
    "name": "ipython",
    "version": 3
   },
   "file_extension": ".py",
   "mimetype": "text/x-python",
   "name": "python",
   "nbconvert_exporter": "python",
   "pygments_lexer": "ipython3",
   "version": "3.11.7"
  }
 },
 "nbformat": 4,
 "nbformat_minor": 5
}
