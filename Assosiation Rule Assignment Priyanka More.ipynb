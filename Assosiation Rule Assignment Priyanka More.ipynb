{
 "cells": [
  {
   "cell_type": "code",
   "execution_count": 1,
   "id": "aa1889ba-97c4-4988-80f4-81cb70cc043a",
   "metadata": {},
   "outputs": [],
   "source": [
    "#Install required libraries\n",
    "import pandas as pd\n",
    "import numpy as np\n",
    "import seaborn as sns \n",
    "import matplotlib.pyplot as plt\n",
    "# !pip install mlxtend\n",
    "from mlxtend.frequent_patterns import association_rules,apriori\n",
    "import warnings\n",
    "warnings.filterwarnings('ignore')"
   ]
  },
  {
   "cell_type": "code",
   "execution_count": 2,
   "id": "f8bf79e8-55ca-4c1e-8a4d-2170d874d499",
   "metadata": {},
   "outputs": [],
   "source": [
    "df = pd.read_excel(r'C:\\Users\\priya\\Downloads\\Association Rules\\Association Rules\\Online retail.xlsx',header=None,names=['Products'],index_col=None)"
   ]
  },
  {
   "cell_type": "code",
   "execution_count": 3,
   "id": "740d89b9-7a1b-4d14-9d13-76b21466a703",
   "metadata": {},
   "outputs": [
    {
     "data": {
      "text/html": [
       "<div>\n",
       "<style scoped>\n",
       "    .dataframe tbody tr th:only-of-type {\n",
       "        vertical-align: middle;\n",
       "    }\n",
       "\n",
       "    .dataframe tbody tr th {\n",
       "        vertical-align: top;\n",
       "    }\n",
       "\n",
       "    .dataframe thead th {\n",
       "        text-align: right;\n",
       "    }\n",
       "</style>\n",
       "<table border=\"1\" class=\"dataframe\">\n",
       "  <thead>\n",
       "    <tr style=\"text-align: right;\">\n",
       "      <th></th>\n",
       "      <th>Products</th>\n",
       "    </tr>\n",
       "  </thead>\n",
       "  <tbody>\n",
       "    <tr>\n",
       "      <th>0</th>\n",
       "      <td>shrimp,almonds,avocado,vegetables mix,green gr...</td>\n",
       "    </tr>\n",
       "    <tr>\n",
       "      <th>1</th>\n",
       "      <td>burgers,meatballs,eggs</td>\n",
       "    </tr>\n",
       "    <tr>\n",
       "      <th>2</th>\n",
       "      <td>chutney</td>\n",
       "    </tr>\n",
       "    <tr>\n",
       "      <th>3</th>\n",
       "      <td>turkey,avocado</td>\n",
       "    </tr>\n",
       "    <tr>\n",
       "      <th>4</th>\n",
       "      <td>mineral water,milk,energy bar,whole wheat rice...</td>\n",
       "    </tr>\n",
       "    <tr>\n",
       "      <th>5</th>\n",
       "      <td>low fat yogurt</td>\n",
       "    </tr>\n",
       "    <tr>\n",
       "      <th>6</th>\n",
       "      <td>whole wheat pasta,french fries</td>\n",
       "    </tr>\n",
       "    <tr>\n",
       "      <th>7</th>\n",
       "      <td>soup,light cream,shallot</td>\n",
       "    </tr>\n",
       "    <tr>\n",
       "      <th>8</th>\n",
       "      <td>frozen vegetables,spaghetti,green tea</td>\n",
       "    </tr>\n",
       "    <tr>\n",
       "      <th>9</th>\n",
       "      <td>french fries</td>\n",
       "    </tr>\n",
       "    <tr>\n",
       "      <th>10</th>\n",
       "      <td>eggs,pet food</td>\n",
       "    </tr>\n",
       "    <tr>\n",
       "      <th>11</th>\n",
       "      <td>cookies</td>\n",
       "    </tr>\n",
       "    <tr>\n",
       "      <th>12</th>\n",
       "      <td>turkey,burgers,mineral water,eggs,cooking oil</td>\n",
       "    </tr>\n",
       "    <tr>\n",
       "      <th>13</th>\n",
       "      <td>spaghetti,champagne,cookies</td>\n",
       "    </tr>\n",
       "    <tr>\n",
       "      <th>14</th>\n",
       "      <td>mineral water,salmon</td>\n",
       "    </tr>\n",
       "  </tbody>\n",
       "</table>\n",
       "</div>"
      ],
      "text/plain": [
       "                                             Products\n",
       "0   shrimp,almonds,avocado,vegetables mix,green gr...\n",
       "1                              burgers,meatballs,eggs\n",
       "2                                             chutney\n",
       "3                                      turkey,avocado\n",
       "4   mineral water,milk,energy bar,whole wheat rice...\n",
       "5                                      low fat yogurt\n",
       "6                      whole wheat pasta,french fries\n",
       "7                            soup,light cream,shallot\n",
       "8               frozen vegetables,spaghetti,green tea\n",
       "9                                        french fries\n",
       "10                                      eggs,pet food\n",
       "11                                            cookies\n",
       "12      turkey,burgers,mineral water,eggs,cooking oil\n",
       "13                        spaghetti,champagne,cookies\n",
       "14                               mineral water,salmon"
      ]
     },
     "execution_count": 3,
     "metadata": {},
     "output_type": "execute_result"
    }
   ],
   "source": [
    "df.head(15)\n"
   ]
  },
  {
   "cell_type": "code",
   "execution_count": 4,
   "id": "1ba134b2-9c75-4839-a485-d5b0063ba981",
   "metadata": {},
   "outputs": [
    {
     "data": {
      "text/plain": [
       "Products                                                                                                                  \n",
       "cookies                                                                                                                       223\n",
       "french fries                                                                                                                  132\n",
       "escalope                                                                                                                      101\n",
       "mineral water                                                                                                                  93\n",
       "eggs                                                                                                                           90\n",
       "                                                                                                                             ... \n",
       "frozen vegetables,tomatoes,milk,vegetables mix,eggs,chocolate,french fries,low fat yogurt                                       1\n",
       "frozen vegetables,tomatoes,milk,salmon,cake,escalope                                                                            1\n",
       "frozen vegetables,tomatoes,milk,salmon                                                                                          1\n",
       "frozen vegetables,tomatoes,ground beef,spaghetti,mineral water,soup,milk,tea,chocolate,hot dogs,cauliflower,low fat yogurt      1\n",
       "yogurt cake,mint                                                                                                                1\n",
       "Length: 5176, dtype: int64"
      ]
     },
     "execution_count": 4,
     "metadata": {},
     "output_type": "execute_result"
    }
   ],
   "source": [
    "df.value_counts()"
   ]
  },
  {
   "cell_type": "code",
   "execution_count": 5,
   "id": "c047cc05-dbe8-4969-9f94-8304ed49ec98",
   "metadata": {},
   "outputs": [
    {
     "ename": "NameError",
     "evalue": "name 'df_filtered' is not defined",
     "output_type": "error",
     "traceback": [
      "\u001b[1;31m---------------------------------------------------------------------------\u001b[0m",
      "\u001b[1;31mNameError\u001b[0m                                 Traceback (most recent call last)",
      "Cell \u001b[1;32mIn[5], line 1\u001b[0m\n\u001b[1;32m----> 1\u001b[0m \u001b[38;5;28mprint\u001b[39m(df_filtered)\n",
      "\u001b[1;31mNameError\u001b[0m: name 'df_filtered' is not defined"
     ]
    }
   ],
   "source": [
    "print(df_filtered)"
   ]
  },
  {
   "cell_type": "code",
   "execution_count": null,
   "id": "8b507d70-1b18-41c3-b4d4-977bdbdc170d",
   "metadata": {},
   "outputs": [],
   "source": [
    "df.dtypes"
   ]
  },
  {
   "cell_type": "code",
   "execution_count": null,
   "id": "6dce868a-8bda-4e1c-9e29-d64f7411493b",
   "metadata": {},
   "outputs": [],
   "source": [
    "df.isna().sum()"
   ]
  },
  {
   "cell_type": "code",
   "execution_count": null,
   "id": "b59affb3-4e87-4c13-9735-eb037475cffc",
   "metadata": {},
   "outputs": [],
   "source": [
    "def text_split(txt):\n",
    "    return txt.split(',')"
   ]
  },
  {
   "cell_type": "code",
   "execution_count": null,
   "id": "7e6df269-7a4c-4885-8675-d05c7c912cf5",
   "metadata": {},
   "outputs": [],
   "source": [
    "data = df['Products'].apply(text_split)\n",
    "print(data)"
   ]
  },
  {
   "cell_type": "code",
   "execution_count": null,
   "id": "a5fef745-ae34-44e3-9d1c-af97eb3cd550",
   "metadata": {},
   "outputs": [],
   "source": [
    "from mlxtend.preprocessing import TransactionEncoder\n",
    "te = TransactionEncoder()\n",
    "df = te.fit_transform(data)"
   ]
  },
  {
   "cell_type": "code",
   "execution_count": null,
   "id": "4f51c782-9f2d-4586-ac26-5320663d826e",
   "metadata": {},
   "outputs": [],
   "source": [
    "encoded_df"
   ]
  },
  {
   "cell_type": "code",
   "execution_count": null,
   "id": "019a8381-1be9-4261-b66c-42cd7744395d",
   "metadata": {},
   "outputs": [],
   "source": [
    "te.columns_"
   ]
  },
  {
   "cell_type": "code",
   "execution_count": null,
   "id": "c613b913-ae02-4512-b250-5d9d96f4f449",
   "metadata": {},
   "outputs": [],
   "source": [
    "data = pd.DataFrame(encoded_df, columns=te.columns_)\n",
    "data"
   ]
  },
  {
   "cell_type": "code",
   "execution_count": null,
   "id": "c3bca045-9e8e-4d05-8384-3523eb6c7d67",
   "metadata": {},
   "outputs": [],
   "source": [
    "data.replace([True,False],[1,0], inplace=True)"
   ]
  },
  {
   "cell_type": "code",
   "execution_count": null,
   "id": "5f06812a-ac78-4c77-9704-2301740ae5fb",
   "metadata": {},
   "outputs": [],
   "source": [
    "data"
   ]
  },
  {
   "cell_type": "code",
   "execution_count": null,
   "id": "42856ccc-869b-4dc8-8e62-468e7ee587dc",
   "metadata": {},
   "outputs": [],
   "source": [
    "# Generate frequent itemsets using the Apriori algorithm\n",
    "# Set the minimum support threshold to 0.001\n",
    "scores = apriori(data,min_support=0.001, use_colnames=True)\n",
    "scores"
   ]
  },
  {
   "cell_type": "code",
   "execution_count": null,
   "id": "b47d4fca-1fc8-427b-8e0d-828308e31234",
   "metadata": {},
   "outputs": [],
   "source": [
    "# Generate association rules from the frequent itemsets\n",
    "# Set the minimum confidence threshold to 0.7\n",
    "rules = association_rules(scores,)\n",
    "rules"
   ]
  },
  {
   "cell_type": "code",
   "execution_count": null,
   "id": "da510cf6-4059-4e6c-bc63-594de73b6702",
   "metadata": {},
   "outputs": [],
   "source": [
    "rules.sort_values(by = 'lift', ascending=False)"
   ]
  },
  {
   "cell_type": "code",
   "execution_count": null,
   "id": "d1be428e-4f63-4047-adf5-358e91cb7b8e",
   "metadata": {},
   "outputs": [],
   "source": [
    "# Plotting Support vs Confidence\n",
    "plt.figure(figsize=(10, 6))\n",
    "sns.scatterplot(x=\"support\", y=\"confidence\", size=\"lift\", data=rules, hue=\"lift\", palette=\"viridis\", sizes=(20, 200))\n",
    "plt.title('Support vs Confidence')\n",
    "plt.xlabel('Support')\n",
    "plt.ylabel('Confidence')\n",
    "plt.legend(title='Lift')\n",
    "plt.show()"
   ]
  }
 ],
 "metadata": {
  "kernelspec": {
   "display_name": "Python 3 (ipykernel)",
   "language": "python",
   "name": "python3"
  },
  "language_info": {
   "codemirror_mode": {
    "name": "ipython",
    "version": 3
   },
   "file_extension": ".py",
   "mimetype": "text/x-python",
   "name": "python",
   "nbconvert_exporter": "python",
   "pygments_lexer": "ipython3",
   "version": "3.11.7"
  }
 },
 "nbformat": 4,
 "nbformat_minor": 5
}
