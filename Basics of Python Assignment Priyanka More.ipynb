{
 "cells": [
  {
   "cell_type": "markdown",
   "id": "f7ca42ab-0c65-45a2-bb41-c672913565c7",
   "metadata": {},
   "source": [
    "# **Exercise 1: Prime Numbers**\n",
    "- Write a Python program that checks whether a given number is prime or not.\n",
    "A prime number is a natural number greater than 1 that has no positive divisors other than 1 and itself.\n"
   ]
  },
  {
   "cell_type": "code",
   "execution_count": 3,
   "id": "9cb3485a-c6b8-4c4d-aea3-4c6343487960",
   "metadata": {},
   "outputs": [
    {
     "name": "stdin",
     "output_type": "stream",
     "text": [
      "Enter a number:  10\n"
     ]
    },
    {
     "name": "stdout",
     "output_type": "stream",
     "text": [
      "10 is not a prime number\n"
     ]
    }
   ],
   "source": [
    "# To take input from the user\n",
    "num = int(input(\"Enter a number: \"))\n",
    "\n",
    "# define a flag variable\n",
    "flag = False\n",
    "\n",
    "if num == 1:\n",
    "    print(num, \"is not a prime number\")\n",
    "elif num > 1:\n",
    "    # check for factors\n",
    "    for i in range(2, num):\n",
    "        if (num % i) == 0:\n",
    "            # if factor is found, set flag to True\n",
    "            flag = True\n",
    "            # break out of loop\n",
    "            break\n",
    "\n",
    "    # check if flag is True\n",
    "    if flag:\n",
    "        print(num, \"is not a prime number\")\n",
    "    else:\n",
    "        print(num, \"is a prime number\")"
   ]
  },
  {
   "cell_type": "markdown",
   "id": "25795443-b09b-4da7-bf19-61399f4a5e11",
   "metadata": {},
   "source": [
    "# **Exercise 2: Product of Random Numbers**\n",
    "- Develop a Python program that generates two random numbers and asks the user to enter the product of these numbers. The program should then check if the user's answer is correct and display an appropriate message.\n"
   ]
  },
  {
   "cell_type": "code",
   "execution_count": 4,
   "id": "0223ad11-ea1f-4fb3-85b9-570e96928467",
   "metadata": {},
   "outputs": [
    {
     "name": "stdin",
     "output_type": "stream",
     "text": [
      "What is the product of 8 and 4?  32\n"
     ]
    },
    {
     "name": "stdout",
     "output_type": "stream",
     "text": [
      "Correct! Well done.\n"
     ]
    }
   ],
   "source": [
    "import random\n",
    "\n",
    "def multiplication_quiz():\n",
    "    # Generate two random numbers between 1 and 10\n",
    "    num1 = random.randint(1, 10)\n",
    "    num2 = random.randint(1, 10)\n",
    "    \n",
    "    # Calculate the correct product\n",
    "    correct_product = num1 * num2\n",
    "    \n",
    "    # Ask the user to enter the product of the two numbers\n",
    "    user_answer = int(input(f\"What is the product of {num1} and {num2}? \"))\n",
    "    \n",
    "    # Check if the user's answer is correct\n",
    "    if user_answer == correct_product:\n",
    "        print(\"Correct! Well done.\")\n",
    "    else:\n",
    "        print(f\"Incorrect. The correct answer is {correct_product}.\")\n",
    "\n",
    "# Run the multiplication quiz\n",
    "multiplication_quiz()"
   ]
  },
  {
   "cell_type": "markdown",
   "id": "9cc9ea90-d050-4624-bfcc-cff0fddcdf5a",
   "metadata": {},
   "source": [
    "# **Exercise 3: Squares of Even/Odd Numbers**\n",
    "- Create a Python script that prints the squares of all even or odd numbers within the range of 100 to 200. Choose either even or odd numbers and document your choice in the code.\n"
   ]
  },
  {
   "cell_type": "code",
   "execution_count": 11,
   "id": "c1cfa3cc-28cc-4ff1-b041-fe485cb24272",
   "metadata": {},
   "outputs": [],
   "source": [
    "def print_sqrs(start,end):\n",
    "    \n",
    "    for i in range(start,end+1):\n",
    "        if i==2 or i%2==0:\n",
    "            print(f'Squares of {i}: {i*i}')"
   ]
  },
  {
   "cell_type": "code",
   "execution_count": 12,
   "id": "16820468-d574-4747-bfd2-adfd36f97b25",
   "metadata": {},
   "outputs": [
    {
     "name": "stdout",
     "output_type": "stream",
     "text": [
      "Squares of 100: 10000\n",
      "Squares of 102: 10404\n",
      "Squares of 104: 10816\n",
      "Squares of 106: 11236\n",
      "Squares of 108: 11664\n",
      "Squares of 110: 12100\n",
      "Squares of 112: 12544\n",
      "Squares of 114: 12996\n",
      "Squares of 116: 13456\n",
      "Squares of 118: 13924\n",
      "Squares of 120: 14400\n",
      "Squares of 122: 14884\n",
      "Squares of 124: 15376\n",
      "Squares of 126: 15876\n",
      "Squares of 128: 16384\n",
      "Squares of 130: 16900\n",
      "Squares of 132: 17424\n",
      "Squares of 134: 17956\n",
      "Squares of 136: 18496\n",
      "Squares of 138: 19044\n",
      "Squares of 140: 19600\n",
      "Squares of 142: 20164\n",
      "Squares of 144: 20736\n",
      "Squares of 146: 21316\n",
      "Squares of 148: 21904\n",
      "Squares of 150: 22500\n",
      "Squares of 152: 23104\n",
      "Squares of 154: 23716\n",
      "Squares of 156: 24336\n",
      "Squares of 158: 24964\n",
      "Squares of 160: 25600\n",
      "Squares of 162: 26244\n",
      "Squares of 164: 26896\n",
      "Squares of 166: 27556\n",
      "Squares of 168: 28224\n",
      "Squares of 170: 28900\n",
      "Squares of 172: 29584\n",
      "Squares of 174: 30276\n",
      "Squares of 176: 30976\n",
      "Squares of 178: 31684\n",
      "Squares of 180: 32400\n",
      "Squares of 182: 33124\n",
      "Squares of 184: 33856\n",
      "Squares of 186: 34596\n",
      "Squares of 188: 35344\n",
      "Squares of 190: 36100\n",
      "Squares of 192: 36864\n",
      "Squares of 194: 37636\n",
      "Squares of 196: 38416\n",
      "Squares of 198: 39204\n",
      "Squares of 200: 40000\n"
     ]
    }
   ],
   "source": [
    "# Print squares of even numbers within the specified range\n",
    "print_sqrs(100,200)"
   ]
  },
  {
   "cell_type": "markdown",
   "id": "13785d55-76ac-4557-9e0a-a1e415bd4e31",
   "metadata": {},
   "source": [
    "# **Exercise 4: Word counter**\n",
    "\n",
    "write a program to count the number of words in a given text\n",
    "\r\n",
    "example:\r\n",
    "input_text = \"This is a sample text. This text will be used to demonstrate the word counter.\"\r\n",
    "Expected output:\r\n",
    "'This': 2 \r\n",
    "'is': 1\r\n",
    "'a': 1\r\n",
    "'sample': 1\r\n",
    "'text.': 1\r\n"
   ]
  },
  {
   "cell_type": "code",
   "execution_count": 13,
   "id": "55dfd219-9a79-4126-9248-cf50a24d81fc",
   "metadata": {},
   "outputs": [
    {
     "name": "stdout",
     "output_type": "stream",
     "text": [
      "'this': 2\n",
      "'is': 1\n",
      "'a': 1\n",
      "'sample': 1\n",
      "'text': 2\n",
      "'will': 1\n",
      "'be': 1\n",
      "'used': 1\n",
      "'to': 1\n",
      "'demonstrate': 1\n",
      "'the': 1\n",
      "'word': 1\n",
      "'counter': 1\n"
     ]
    }
   ],
   "source": [
    "def count_words(input_text):\n",
    "    # Convert the text to lower case to make the count case-insensitive\n",
    "    input_text = input_text.lower()\n",
    "    \n",
    "    # Remove punctuation\n",
    "    import string\n",
    "    input_text = input_text.translate(str.maketrans('', '', string.punctuation))\n",
    "    \n",
    "    # Split the text into words\n",
    "    words = input_text.split()\n",
    "    \n",
    "    # Initialize an empty dictionary to store word counts\n",
    "    word_counts = {}\n",
    "    \n",
    "    # Count the occurrences of each word\n",
    "    for word in words:\n",
    "        if word in word_counts:\n",
    "            word_counts[word] += 1\n",
    "        else:\n",
    "            word_counts[word] = 1\n",
    "    \n",
    "    return word_counts\n",
    "\n",
    "# Example input text\n",
    "input_text = \"This is a sample text. This text will be used to demonstrate the word counter.\"\n",
    "\n",
    "# Count the words in the input text\n",
    "word_counts = count_words(input_text)\n",
    "\n",
    "# Print the word counts\n",
    "for word, count in word_counts.items():\n",
    "    print(f\"'{word}': {count}\")\n"
   ]
  },
  {
   "cell_type": "markdown",
   "id": "002e96d0-7f03-474d-b438-3edd1bbf1876",
   "metadata": {},
   "source": [
    "# **Exercise 5: Check for Palindrome**\n",
    "Write a Python function called is_palindrome that takes a string as input and returns True if the string is a palindrome, and False otherwise. A palindrome is a word, phrase, number, or other sequence of characters that reads the same forward and backward, ignoring spaces, punctuation, and capitalization.\n",
    "Example:\n",
    "Input: \"racecar\"\n",
    "Expected Output: True\n"
   ]
  },
  {
   "cell_type": "code",
   "execution_count": 16,
   "id": "5d94705f-dad9-49a6-9776-3cab780bca2a",
   "metadata": {},
   "outputs": [
    {
     "name": "stdout",
     "output_type": "stream",
     "text": [
      "Is 'racecar' a palindrome? True\n",
      "Is 'A man, a plan, a canal, Panama' a palindrome? True\n",
      "Is 'Hello, World!' a palindrome? False\n"
     ]
    }
   ],
   "source": [
    "import string\n",
    "\n",
    "def is_palindrome(input_string):\n",
    "    # Remove spaces, punctuation, and convert to lower case\n",
    "    cleaned_string = ''.join(char.lower() for char in input_string if char.isalnum())\n",
    "    \n",
    "    # Check if the cleaned string is the same forward and backward\n",
    "    return cleaned_string == cleaned_string[::-1]\n",
    "\n",
    "# Example\n",
    "input_string = \"racecar\"\n",
    "print(f\"Is '{input_string}' a palindrome? {is_palindrome(input_string)}\")\n",
    "\n",
    "input_string = \"A man, a plan, a canal, Panama\"\n",
    "print(f\"Is '{input_string}' a palindrome? {is_palindrome(input_string)}\")\n",
    "\n",
    "input_string = \"Hello, World!\"\n",
    "print(f\"Is '{input_string}' a palindrome? {is_palindrome(input_string)}\")\n"
   ]
  },
  {
   "cell_type": "code",
   "execution_count": null,
   "id": "c4bfa0f5-07bf-4d28-ade6-8cabf1428c39",
   "metadata": {},
   "outputs": [],
   "source": []
  }
 ],
 "metadata": {
  "kernelspec": {
   "display_name": "Python 3 (ipykernel)",
   "language": "python",
   "name": "python3"
  },
  "language_info": {
   "codemirror_mode": {
    "name": "ipython",
    "version": 3
   },
   "file_extension": ".py",
   "mimetype": "text/x-python",
   "name": "python",
   "nbconvert_exporter": "python",
   "pygments_lexer": "ipython3",
   "version": "3.11.7"
  }
 },
 "nbformat": 4,
 "nbformat_minor": 5
}
